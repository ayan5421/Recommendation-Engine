{
 "cells": [
  {
   "cell_type": "code",
   "execution_count": 1,
   "id": "633506f5",
   "metadata": {},
   "outputs": [],
   "source": [
    "import  numpy as np\n",
    "import pandas as pd\n",
    "import ast\n",
    "import nltk\n",
    "import pickle as pk"
   ]
  },
  {
   "cell_type": "code",
   "execution_count": 2,
   "id": "55901800",
   "metadata": {},
   "outputs": [],
   "source": [
    "movies = pd.read_csv('tmdb_5000_movies.csv')\n",
    "credits = pd.read_csv('tmdb_5000_credits.csv')"
   ]
  },
  {
   "cell_type": "code",
   "execution_count": 3,
   "id": "3f77796f",
   "metadata": {},
   "outputs": [],
   "source": [
    "credits.rename(columns = {'movie_id' : 'id'}, inplace=True)"
   ]
  },
  {
   "cell_type": "code",
   "execution_count": 4,
   "id": "1f76337b",
   "metadata": {
    "scrolled": true
   },
   "outputs": [],
   "source": [
    "movies = movies.merge(credits, on='id')"
   ]
  },
  {
   "cell_type": "code",
   "execution_count": 5,
   "id": "3217113b",
   "metadata": {
    "scrolled": true
   },
   "outputs": [],
   "source": [
    "movies = movies[['id','original_title','genres','keywords','overview','production_companies','cast','crew','release_date','runtime','homepage','tagline']]"
   ]
  },
  {
   "cell_type": "code",
   "execution_count": 6,
   "id": "24a4a215",
   "metadata": {},
   "outputs": [],
   "source": [
    "def conv(obj):\n",
    "    L=[]\n",
    "    for i in ast.literal_eval(obj):\n",
    "        L.append(i['name'])\n",
    "    return L"
   ]
  },
  {
   "cell_type": "code",
   "execution_count": 7,
   "id": "7bd02515",
   "metadata": {},
   "outputs": [],
   "source": [
    "movies['genres'] = movies['genres'].apply(conv)"
   ]
  },
  {
   "cell_type": "code",
   "execution_count": 8,
   "id": "6d0018fe",
   "metadata": {},
   "outputs": [],
   "source": [
    "movies['keywords'] = movies['keywords'].apply(conv)"
   ]
  },
  {
   "cell_type": "code",
   "execution_count": 9,
   "id": "4d6d4b59",
   "metadata": {},
   "outputs": [],
   "source": [
    "movies['production_companies'] = movies['production_companies'].apply(conv)"
   ]
  },
  {
   "cell_type": "code",
   "execution_count": 10,
   "id": "9936e9c8",
   "metadata": {},
   "outputs": [],
   "source": [
    "def convert(obj):\n",
    "    L=[]\n",
    "    c=0\n",
    "    for i in ast.literal_eval(obj):\n",
    "        if c!=5:\n",
    "            L.append(i['name'])\n",
    "            c+=1\n",
    "        else:\n",
    "            break\n",
    "    return L"
   ]
  },
  {
   "cell_type": "code",
   "execution_count": 11,
   "id": "49155efc",
   "metadata": {},
   "outputs": [],
   "source": [
    "movies['cast'] = movies['cast'].apply(convert)"
   ]
  },
  {
   "cell_type": "code",
   "execution_count": 12,
   "id": "142ce6e5",
   "metadata": {},
   "outputs": [],
   "source": [
    "movies['producer'] = movies['crew']"
   ]
  },
  {
   "cell_type": "code",
   "execution_count": 13,
   "id": "e41b462e",
   "metadata": {},
   "outputs": [],
   "source": [
    "movies.rename(columns = {'crew' : 'director'}, inplace=True)"
   ]
  },
  {
   "cell_type": "code",
   "execution_count": 14,
   "id": "6f1736ad",
   "metadata": {},
   "outputs": [],
   "source": [
    "def dp(obj,job):\n",
    "    L=[]\n",
    "    for i in ast.literal_eval(obj):\n",
    "        if i['job']==job:\n",
    "            L.append(i['name'])\n",
    "            break\n",
    "    return L"
   ]
  },
  {
   "cell_type": "code",
   "execution_count": 15,
   "id": "0351ea7f",
   "metadata": {},
   "outputs": [],
   "source": [
    "movies['director'] = movies['director'].apply(lambda x:dp(x,'Director'))"
   ]
  },
  {
   "cell_type": "code",
   "execution_count": 16,
   "id": "50930c8e",
   "metadata": {},
   "outputs": [],
   "source": [
    "movies['producer'] = movies['producer'].apply(lambda x:dp(x,'Producer'))"
   ]
  },
  {
   "cell_type": "code",
   "execution_count": 17,
   "id": "5a83b276",
   "metadata": {},
   "outputs": [],
   "source": [
    "movies[\"tag\"] = movies['overview'].apply(lambda x:str(x).split()) + movies['genres'].apply(lambda x:[i.replace(\" \",\"\") for i in x]) + movies['keywords'].apply(lambda x:[i.replace(\" \",\"\") for i in x]) + movies['production_companies'].apply(lambda x:[i.replace(\" \",\"\") for i in x]) + movies['cast'].apply(lambda x:[i.replace(\" \",\"\") for i in x]) + movies['director'].apply(lambda x:[i.replace(\" \",\"\") for i in x]) + movies['producer'].apply(lambda x:[i.replace(\" \",\"\") for i in x])"
   ]
  },
  {
   "cell_type": "code",
   "execution_count": 18,
   "id": "207a3276",
   "metadata": {},
   "outputs": [],
   "source": [
    "from nltk.stem.porter import PorterStemmer\n",
    "ps = PorterStemmer()"
   ]
  },
  {
   "cell_type": "code",
   "execution_count": 19,
   "id": "7aa00b43",
   "metadata": {},
   "outputs": [],
   "source": [
    "movies['tag'] = movies['tag'].apply(lambda x:[ps.stem(i) for i in x])"
   ]
  },
  {
   "cell_type": "code",
   "execution_count": 20,
   "id": "30498c09",
   "metadata": {},
   "outputs": [],
   "source": [
    "movies['tag'] = movies['tag'].apply(lambda x:' '.join(x))"
   ]
  },
  {
   "cell_type": "code",
   "execution_count": 21,
   "id": "ec0a61b4",
   "metadata": {
    "scrolled": true
   },
   "outputs": [],
   "source": [
    "movies['genres'] = movies['genres'].apply(lambda x:', '.join(x))"
   ]
  },
  {
   "cell_type": "code",
   "execution_count": 22,
   "id": "d4971e93",
   "metadata": {},
   "outputs": [],
   "source": [
    "movies['production_companies'] = movies['production_companies'].apply(lambda x:', '.join(x))"
   ]
  },
  {
   "cell_type": "code",
   "execution_count": 23,
   "id": "bb84dedb",
   "metadata": {},
   "outputs": [],
   "source": [
    "movies['cast'] = movies['cast'].apply(lambda x:', '.join(x))"
   ]
  },
  {
   "cell_type": "code",
   "execution_count": 24,
   "id": "1b3ec0c9",
   "metadata": {},
   "outputs": [],
   "source": [
    "movies['director'] = movies['director'].apply(lambda x:''.join(x))"
   ]
  },
  {
   "cell_type": "code",
   "execution_count": 25,
   "id": "97fb12aa",
   "metadata": {},
   "outputs": [],
   "source": [
    "movies['producer'] = movies['producer'].apply(lambda x:''.join(x))"
   ]
  },
  {
   "cell_type": "code",
   "execution_count": 26,
   "id": "f883b9dd",
   "metadata": {},
   "outputs": [],
   "source": [
    "del movies['keywords']"
   ]
  },
  {
   "cell_type": "code",
   "execution_count": 27,
   "id": "5b5b8f60",
   "metadata": {},
   "outputs": [],
   "source": [
    "from sklearn.feature_extraction.text import CountVectorizer\n",
    "cv = CountVectorizer(max_features=2*len(movies), stop_words='english')"
   ]
  },
  {
   "cell_type": "code",
   "execution_count": 28,
   "id": "c00a6310",
   "metadata": {},
   "outputs": [],
   "source": [
    "vec = cv.fit_transform(movies['tag']).toarray()"
   ]
  },
  {
   "cell_type": "code",
   "execution_count": 29,
   "id": "fc49787c",
   "metadata": {},
   "outputs": [],
   "source": [
    "from sklearn.metrics.pairwise import cosine_similarity"
   ]
  },
  {
   "cell_type": "code",
   "execution_count": null,
   "id": "aab4d983",
   "metadata": {},
   "outputs": [],
   "source": [
    "sim = cosine_similarity(vec)"
   ]
  },
  {
   "cell_type": "code",
   "execution_count": 31,
   "id": "6c74aecb",
   "metadata": {},
   "outputs": [],
   "source": [
    "def recommend(mov,count):\n",
    "    a = 6 + count*5\n",
    "    mov_index = movies[movies['original_title'] == mov].index[0]\n",
    "    mov_list = sorted(list(enumerate(sim[mov_index])),reverse=True,key=lambda x:x[1])[1:a]\n",
    "    \n",
    "    for i in mov_list:\n",
    "        print(movies['original_title'][i[0]])"
   ]
  },
  {
   "cell_type": "code",
   "execution_count": 32,
   "id": "d88a010b",
   "metadata": {
    "scrolled": false
   },
   "outputs": [
    {
     "name": "stdout",
     "output_type": "stream",
     "text": [
      "Superman II\n",
      "Superman IV: The Quest for Peace\n",
      "Superman\n",
      "Superman III\n",
      "Man of Steel\n"
     ]
    }
   ],
   "source": [
    "recommend(\"Superman Returns\",0)"
   ]
  },
  {
   "cell_type": "code",
   "execution_count": 33,
   "id": "02af25dc",
   "metadata": {},
   "outputs": [],
   "source": [
    "pk.dump(movies.to_dict(),open('movies_dictionary.pkl','wb'))"
   ]
  },
  {
   "cell_type": "code",
   "execution_count": 34,
   "id": "7d74c01d",
   "metadata": {},
   "outputs": [],
   "source": [
    "pk.dump(sim,open('sim.pkl','wb'))"
   ]
  },
  {
   "cell_type": "code",
   "execution_count": 6,
   "id": "e5d89bf5",
   "metadata": {
    "scrolled": true
   },
   "outputs": [
    {
     "data": {
      "text/html": [
       "<div>\n",
       "<style scoped>\n",
       "    .dataframe tbody tr th:only-of-type {\n",
       "        vertical-align: middle;\n",
       "    }\n",
       "\n",
       "    .dataframe tbody tr th {\n",
       "        vertical-align: top;\n",
       "    }\n",
       "\n",
       "    .dataframe thead th {\n",
       "        text-align: right;\n",
       "    }\n",
       "</style>\n",
       "<table border=\"1\" class=\"dataframe\">\n",
       "  <thead>\n",
       "    <tr style=\"text-align: right;\">\n",
       "      <th></th>\n",
       "      <th>id</th>\n",
       "      <th>original_title</th>\n",
       "      <th>genres</th>\n",
       "      <th>keywords</th>\n",
       "      <th>overview</th>\n",
       "      <th>production_companies</th>\n",
       "      <th>cast</th>\n",
       "      <th>crew</th>\n",
       "      <th>release_date</th>\n",
       "      <th>runtime</th>\n",
       "      <th>homepage</th>\n",
       "      <th>tagline</th>\n",
       "    </tr>\n",
       "  </thead>\n",
       "  <tbody>\n",
       "    <tr>\n",
       "      <th>0</th>\n",
       "      <td>19995</td>\n",
       "      <td>Avatar</td>\n",
       "      <td>[{\"id\": 28, \"name\": \"Action\"}, {\"id\": 12, \"nam...</td>\n",
       "      <td>[{\"id\": 1463, \"name\": \"culture clash\"}, {\"id\":...</td>\n",
       "      <td>In the 22nd century, a paraplegic Marine is di...</td>\n",
       "      <td>[{\"name\": \"Ingenious Film Partners\", \"id\": 289...</td>\n",
       "      <td>[{\"cast_id\": 242, \"character\": \"Jake Sully\", \"...</td>\n",
       "      <td>[{\"credit_id\": \"52fe48009251416c750aca23\", \"de...</td>\n",
       "      <td>2009-12-10</td>\n",
       "      <td>162.0</td>\n",
       "      <td>http://www.avatarmovie.com/</td>\n",
       "      <td>Enter the World of Pandora.</td>\n",
       "    </tr>\n",
       "    <tr>\n",
       "      <th>1</th>\n",
       "      <td>285</td>\n",
       "      <td>Pirates of the Caribbean: At World's End</td>\n",
       "      <td>[{\"id\": 12, \"name\": \"Adventure\"}, {\"id\": 14, \"...</td>\n",
       "      <td>[{\"id\": 270, \"name\": \"ocean\"}, {\"id\": 726, \"na...</td>\n",
       "      <td>Captain Barbossa, long believed to be dead, ha...</td>\n",
       "      <td>[{\"name\": \"Walt Disney Pictures\", \"id\": 2}, {\"...</td>\n",
       "      <td>[{\"cast_id\": 4, \"character\": \"Captain Jack Spa...</td>\n",
       "      <td>[{\"credit_id\": \"52fe4232c3a36847f800b579\", \"de...</td>\n",
       "      <td>2007-05-19</td>\n",
       "      <td>169.0</td>\n",
       "      <td>http://disney.go.com/disneypictures/pirates/</td>\n",
       "      <td>At the end of the world, the adventure begins.</td>\n",
       "    </tr>\n",
       "    <tr>\n",
       "      <th>2</th>\n",
       "      <td>206647</td>\n",
       "      <td>Spectre</td>\n",
       "      <td>[{\"id\": 28, \"name\": \"Action\"}, {\"id\": 12, \"nam...</td>\n",
       "      <td>[{\"id\": 470, \"name\": \"spy\"}, {\"id\": 818, \"name...</td>\n",
       "      <td>A cryptic message from Bond’s past sends him o...</td>\n",
       "      <td>[{\"name\": \"Columbia Pictures\", \"id\": 5}, {\"nam...</td>\n",
       "      <td>[{\"cast_id\": 1, \"character\": \"James Bond\", \"cr...</td>\n",
       "      <td>[{\"credit_id\": \"54805967c3a36829b5002c41\", \"de...</td>\n",
       "      <td>2015-10-26</td>\n",
       "      <td>148.0</td>\n",
       "      <td>http://www.sonypictures.com/movies/spectre/</td>\n",
       "      <td>A Plan No One Escapes</td>\n",
       "    </tr>\n",
       "    <tr>\n",
       "      <th>3</th>\n",
       "      <td>49026</td>\n",
       "      <td>The Dark Knight Rises</td>\n",
       "      <td>[{\"id\": 28, \"name\": \"Action\"}, {\"id\": 80, \"nam...</td>\n",
       "      <td>[{\"id\": 849, \"name\": \"dc comics\"}, {\"id\": 853,...</td>\n",
       "      <td>Following the death of District Attorney Harve...</td>\n",
       "      <td>[{\"name\": \"Legendary Pictures\", \"id\": 923}, {\"...</td>\n",
       "      <td>[{\"cast_id\": 2, \"character\": \"Bruce Wayne / Ba...</td>\n",
       "      <td>[{\"credit_id\": \"52fe4781c3a36847f81398c3\", \"de...</td>\n",
       "      <td>2012-07-16</td>\n",
       "      <td>165.0</td>\n",
       "      <td>http://www.thedarkknightrises.com/</td>\n",
       "      <td>The Legend Ends</td>\n",
       "    </tr>\n",
       "    <tr>\n",
       "      <th>4</th>\n",
       "      <td>49529</td>\n",
       "      <td>John Carter</td>\n",
       "      <td>[{\"id\": 28, \"name\": \"Action\"}, {\"id\": 12, \"nam...</td>\n",
       "      <td>[{\"id\": 818, \"name\": \"based on novel\"}, {\"id\":...</td>\n",
       "      <td>John Carter is a war-weary, former military ca...</td>\n",
       "      <td>[{\"name\": \"Walt Disney Pictures\", \"id\": 2}]</td>\n",
       "      <td>[{\"cast_id\": 5, \"character\": \"John Carter\", \"c...</td>\n",
       "      <td>[{\"credit_id\": \"52fe479ac3a36847f813eaa3\", \"de...</td>\n",
       "      <td>2012-03-07</td>\n",
       "      <td>132.0</td>\n",
       "      <td>http://movies.disney.com/john-carter</td>\n",
       "      <td>Lost in our world, found in another.</td>\n",
       "    </tr>\n",
       "    <tr>\n",
       "      <th>...</th>\n",
       "      <td>...</td>\n",
       "      <td>...</td>\n",
       "      <td>...</td>\n",
       "      <td>...</td>\n",
       "      <td>...</td>\n",
       "      <td>...</td>\n",
       "      <td>...</td>\n",
       "      <td>...</td>\n",
       "      <td>...</td>\n",
       "      <td>...</td>\n",
       "      <td>...</td>\n",
       "      <td>...</td>\n",
       "    </tr>\n",
       "    <tr>\n",
       "      <th>4798</th>\n",
       "      <td>9367</td>\n",
       "      <td>El Mariachi</td>\n",
       "      <td>[{\"id\": 28, \"name\": \"Action\"}, {\"id\": 80, \"nam...</td>\n",
       "      <td>[{\"id\": 5616, \"name\": \"united states\\u2013mexi...</td>\n",
       "      <td>El Mariachi just wants to play his guitar and ...</td>\n",
       "      <td>[{\"name\": \"Columbia Pictures\", \"id\": 5}]</td>\n",
       "      <td>[{\"cast_id\": 1, \"character\": \"El Mariachi\", \"c...</td>\n",
       "      <td>[{\"credit_id\": \"52fe44eec3a36847f80b280b\", \"de...</td>\n",
       "      <td>1992-09-04</td>\n",
       "      <td>81.0</td>\n",
       "      <td>NaN</td>\n",
       "      <td>He didn't come looking for trouble, but troubl...</td>\n",
       "    </tr>\n",
       "    <tr>\n",
       "      <th>4799</th>\n",
       "      <td>72766</td>\n",
       "      <td>Newlyweds</td>\n",
       "      <td>[{\"id\": 35, \"name\": \"Comedy\"}, {\"id\": 10749, \"...</td>\n",
       "      <td>[]</td>\n",
       "      <td>A newlywed couple's honeymoon is upended by th...</td>\n",
       "      <td>[]</td>\n",
       "      <td>[{\"cast_id\": 1, \"character\": \"Buzzy\", \"credit_...</td>\n",
       "      <td>[{\"credit_id\": \"52fe487dc3a368484e0fb013\", \"de...</td>\n",
       "      <td>2011-12-26</td>\n",
       "      <td>85.0</td>\n",
       "      <td>NaN</td>\n",
       "      <td>A newlywed couple's honeymoon is upended by th...</td>\n",
       "    </tr>\n",
       "    <tr>\n",
       "      <th>4800</th>\n",
       "      <td>231617</td>\n",
       "      <td>Signed, Sealed, Delivered</td>\n",
       "      <td>[{\"id\": 35, \"name\": \"Comedy\"}, {\"id\": 18, \"nam...</td>\n",
       "      <td>[{\"id\": 248, \"name\": \"date\"}, {\"id\": 699, \"nam...</td>\n",
       "      <td>\"Signed, Sealed, Delivered\" introduces a dedic...</td>\n",
       "      <td>[{\"name\": \"Front Street Pictures\", \"id\": 3958}...</td>\n",
       "      <td>[{\"cast_id\": 8, \"character\": \"Oliver O\\u2019To...</td>\n",
       "      <td>[{\"credit_id\": \"52fe4df3c3a36847f8275ecf\", \"de...</td>\n",
       "      <td>2013-10-13</td>\n",
       "      <td>120.0</td>\n",
       "      <td>http://www.hallmarkchannel.com/signedsealeddel...</td>\n",
       "      <td>NaN</td>\n",
       "    </tr>\n",
       "    <tr>\n",
       "      <th>4801</th>\n",
       "      <td>126186</td>\n",
       "      <td>Shanghai Calling</td>\n",
       "      <td>[]</td>\n",
       "      <td>[]</td>\n",
       "      <td>When ambitious New York attorney Sam is sent t...</td>\n",
       "      <td>[]</td>\n",
       "      <td>[{\"cast_id\": 3, \"character\": \"Sam\", \"credit_id...</td>\n",
       "      <td>[{\"credit_id\": \"52fe4ad9c3a368484e16a36b\", \"de...</td>\n",
       "      <td>2012-05-03</td>\n",
       "      <td>98.0</td>\n",
       "      <td>http://shanghaicalling.com/</td>\n",
       "      <td>A New Yorker in Shanghai</td>\n",
       "    </tr>\n",
       "    <tr>\n",
       "      <th>4802</th>\n",
       "      <td>25975</td>\n",
       "      <td>My Date with Drew</td>\n",
       "      <td>[{\"id\": 99, \"name\": \"Documentary\"}]</td>\n",
       "      <td>[{\"id\": 1523, \"name\": \"obsession\"}, {\"id\": 224...</td>\n",
       "      <td>Ever since the second grade when he first saw ...</td>\n",
       "      <td>[{\"name\": \"rusty bear entertainment\", \"id\": 87...</td>\n",
       "      <td>[{\"cast_id\": 3, \"character\": \"Herself\", \"credi...</td>\n",
       "      <td>[{\"credit_id\": \"58ce021b9251415a390165d9\", \"de...</td>\n",
       "      <td>2005-08-05</td>\n",
       "      <td>90.0</td>\n",
       "      <td>NaN</td>\n",
       "      <td>NaN</td>\n",
       "    </tr>\n",
       "  </tbody>\n",
       "</table>\n",
       "<p>4803 rows × 12 columns</p>\n",
       "</div>"
      ],
      "text/plain": [
       "          id                            original_title  \\\n",
       "0      19995                                    Avatar   \n",
       "1        285  Pirates of the Caribbean: At World's End   \n",
       "2     206647                                   Spectre   \n",
       "3      49026                     The Dark Knight Rises   \n",
       "4      49529                               John Carter   \n",
       "...      ...                                       ...   \n",
       "4798    9367                               El Mariachi   \n",
       "4799   72766                                 Newlyweds   \n",
       "4800  231617                 Signed, Sealed, Delivered   \n",
       "4801  126186                          Shanghai Calling   \n",
       "4802   25975                         My Date with Drew   \n",
       "\n",
       "                                                 genres  \\\n",
       "0     [{\"id\": 28, \"name\": \"Action\"}, {\"id\": 12, \"nam...   \n",
       "1     [{\"id\": 12, \"name\": \"Adventure\"}, {\"id\": 14, \"...   \n",
       "2     [{\"id\": 28, \"name\": \"Action\"}, {\"id\": 12, \"nam...   \n",
       "3     [{\"id\": 28, \"name\": \"Action\"}, {\"id\": 80, \"nam...   \n",
       "4     [{\"id\": 28, \"name\": \"Action\"}, {\"id\": 12, \"nam...   \n",
       "...                                                 ...   \n",
       "4798  [{\"id\": 28, \"name\": \"Action\"}, {\"id\": 80, \"nam...   \n",
       "4799  [{\"id\": 35, \"name\": \"Comedy\"}, {\"id\": 10749, \"...   \n",
       "4800  [{\"id\": 35, \"name\": \"Comedy\"}, {\"id\": 18, \"nam...   \n",
       "4801                                                 []   \n",
       "4802                [{\"id\": 99, \"name\": \"Documentary\"}]   \n",
       "\n",
       "                                               keywords  \\\n",
       "0     [{\"id\": 1463, \"name\": \"culture clash\"}, {\"id\":...   \n",
       "1     [{\"id\": 270, \"name\": \"ocean\"}, {\"id\": 726, \"na...   \n",
       "2     [{\"id\": 470, \"name\": \"spy\"}, {\"id\": 818, \"name...   \n",
       "3     [{\"id\": 849, \"name\": \"dc comics\"}, {\"id\": 853,...   \n",
       "4     [{\"id\": 818, \"name\": \"based on novel\"}, {\"id\":...   \n",
       "...                                                 ...   \n",
       "4798  [{\"id\": 5616, \"name\": \"united states\\u2013mexi...   \n",
       "4799                                                 []   \n",
       "4800  [{\"id\": 248, \"name\": \"date\"}, {\"id\": 699, \"nam...   \n",
       "4801                                                 []   \n",
       "4802  [{\"id\": 1523, \"name\": \"obsession\"}, {\"id\": 224...   \n",
       "\n",
       "                                               overview  \\\n",
       "0     In the 22nd century, a paraplegic Marine is di...   \n",
       "1     Captain Barbossa, long believed to be dead, ha...   \n",
       "2     A cryptic message from Bond’s past sends him o...   \n",
       "3     Following the death of District Attorney Harve...   \n",
       "4     John Carter is a war-weary, former military ca...   \n",
       "...                                                 ...   \n",
       "4798  El Mariachi just wants to play his guitar and ...   \n",
       "4799  A newlywed couple's honeymoon is upended by th...   \n",
       "4800  \"Signed, Sealed, Delivered\" introduces a dedic...   \n",
       "4801  When ambitious New York attorney Sam is sent t...   \n",
       "4802  Ever since the second grade when he first saw ...   \n",
       "\n",
       "                                   production_companies  \\\n",
       "0     [{\"name\": \"Ingenious Film Partners\", \"id\": 289...   \n",
       "1     [{\"name\": \"Walt Disney Pictures\", \"id\": 2}, {\"...   \n",
       "2     [{\"name\": \"Columbia Pictures\", \"id\": 5}, {\"nam...   \n",
       "3     [{\"name\": \"Legendary Pictures\", \"id\": 923}, {\"...   \n",
       "4           [{\"name\": \"Walt Disney Pictures\", \"id\": 2}]   \n",
       "...                                                 ...   \n",
       "4798           [{\"name\": \"Columbia Pictures\", \"id\": 5}]   \n",
       "4799                                                 []   \n",
       "4800  [{\"name\": \"Front Street Pictures\", \"id\": 3958}...   \n",
       "4801                                                 []   \n",
       "4802  [{\"name\": \"rusty bear entertainment\", \"id\": 87...   \n",
       "\n",
       "                                                   cast  \\\n",
       "0     [{\"cast_id\": 242, \"character\": \"Jake Sully\", \"...   \n",
       "1     [{\"cast_id\": 4, \"character\": \"Captain Jack Spa...   \n",
       "2     [{\"cast_id\": 1, \"character\": \"James Bond\", \"cr...   \n",
       "3     [{\"cast_id\": 2, \"character\": \"Bruce Wayne / Ba...   \n",
       "4     [{\"cast_id\": 5, \"character\": \"John Carter\", \"c...   \n",
       "...                                                 ...   \n",
       "4798  [{\"cast_id\": 1, \"character\": \"El Mariachi\", \"c...   \n",
       "4799  [{\"cast_id\": 1, \"character\": \"Buzzy\", \"credit_...   \n",
       "4800  [{\"cast_id\": 8, \"character\": \"Oliver O\\u2019To...   \n",
       "4801  [{\"cast_id\": 3, \"character\": \"Sam\", \"credit_id...   \n",
       "4802  [{\"cast_id\": 3, \"character\": \"Herself\", \"credi...   \n",
       "\n",
       "                                                   crew release_date  runtime  \\\n",
       "0     [{\"credit_id\": \"52fe48009251416c750aca23\", \"de...   2009-12-10    162.0   \n",
       "1     [{\"credit_id\": \"52fe4232c3a36847f800b579\", \"de...   2007-05-19    169.0   \n",
       "2     [{\"credit_id\": \"54805967c3a36829b5002c41\", \"de...   2015-10-26    148.0   \n",
       "3     [{\"credit_id\": \"52fe4781c3a36847f81398c3\", \"de...   2012-07-16    165.0   \n",
       "4     [{\"credit_id\": \"52fe479ac3a36847f813eaa3\", \"de...   2012-03-07    132.0   \n",
       "...                                                 ...          ...      ...   \n",
       "4798  [{\"credit_id\": \"52fe44eec3a36847f80b280b\", \"de...   1992-09-04     81.0   \n",
       "4799  [{\"credit_id\": \"52fe487dc3a368484e0fb013\", \"de...   2011-12-26     85.0   \n",
       "4800  [{\"credit_id\": \"52fe4df3c3a36847f8275ecf\", \"de...   2013-10-13    120.0   \n",
       "4801  [{\"credit_id\": \"52fe4ad9c3a368484e16a36b\", \"de...   2012-05-03     98.0   \n",
       "4802  [{\"credit_id\": \"58ce021b9251415a390165d9\", \"de...   2005-08-05     90.0   \n",
       "\n",
       "                                               homepage  \\\n",
       "0                           http://www.avatarmovie.com/   \n",
       "1          http://disney.go.com/disneypictures/pirates/   \n",
       "2           http://www.sonypictures.com/movies/spectre/   \n",
       "3                    http://www.thedarkknightrises.com/   \n",
       "4                  http://movies.disney.com/john-carter   \n",
       "...                                                 ...   \n",
       "4798                                                NaN   \n",
       "4799                                                NaN   \n",
       "4800  http://www.hallmarkchannel.com/signedsealeddel...   \n",
       "4801                        http://shanghaicalling.com/   \n",
       "4802                                                NaN   \n",
       "\n",
       "                                                tagline  \n",
       "0                           Enter the World of Pandora.  \n",
       "1        At the end of the world, the adventure begins.  \n",
       "2                                 A Plan No One Escapes  \n",
       "3                                       The Legend Ends  \n",
       "4                  Lost in our world, found in another.  \n",
       "...                                                 ...  \n",
       "4798  He didn't come looking for trouble, but troubl...  \n",
       "4799  A newlywed couple's honeymoon is upended by th...  \n",
       "4800                                                NaN  \n",
       "4801                           A New Yorker in Shanghai  \n",
       "4802                                                NaN  \n",
       "\n",
       "[4803 rows x 12 columns]"
      ]
     },
     "execution_count": 6,
     "metadata": {},
     "output_type": "execute_result"
    }
   ],
   "source": [
    "movies"
   ]
  }
 ],
 "metadata": {
  "kernelspec": {
   "display_name": "Python 3 (ipykernel)",
   "language": "python",
   "name": "python3"
  },
  "language_info": {
   "codemirror_mode": {
    "name": "ipython",
    "version": 3
   },
   "file_extension": ".py",
   "mimetype": "text/x-python",
   "name": "python",
   "nbconvert_exporter": "python",
   "pygments_lexer": "ipython3",
   "version": "3.9.12"
  }
 },
 "nbformat": 4,
 "nbformat_minor": 5
}
