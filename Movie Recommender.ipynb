{
 "cells": [
  {
   "cell_type": "code",
   "execution_count": 1,
   "id": "633506f5",
   "metadata": {},
   "outputs": [],
   "source": [
    "import  numpy as np\n",
    "import pandas as pd\n",
    "import ast\n",
    "import nltk\n",
    "import pickle as pk"
   ]
  },
  {
   "cell_type": "code",
   "execution_count": 2,
   "id": "55901800",
   "metadata": {},
   "outputs": [],
   "source": [
    "movies = pd.read_csv('tmdb_5000_movies.csv')\n",
    "credits = pd.read_csv('tmdb_5000_credits.csv')"
   ]
  },
  {
   "cell_type": "code",
   "execution_count": 3,
   "id": "3f77796f",
   "metadata": {},
   "outputs": [],
   "source": [
    "credits.rename(columns = {'movie_id' : 'id'}, inplace=True)"
   ]
  },
  {
   "cell_type": "code",
   "execution_count": 4,
   "id": "1f76337b",
   "metadata": {
    "scrolled": true
   },
   "outputs": [],
   "source": [
    "movies = movies.merge(credits, on='id')"
   ]
  },
  {
   "cell_type": "code",
   "execution_count": 5,
   "id": "3217113b",
   "metadata": {
    "scrolled": true
   },
   "outputs": [],
   "source": [
    "movies = movies[['id','original_title','genres','keywords','overview','production_companies','cast','crew','release_date','runtime','homepage']]"
   ]
  },
  {
   "cell_type": "code",
   "execution_count": 6,
   "id": "24a4a215",
   "metadata": {},
   "outputs": [],
   "source": [
    "def conv(obj):\n",
    "    L=[]\n",
    "    for i in ast.literal_eval(obj):\n",
    "        L.append(i['name'])\n",
    "    return L"
   ]
  },
  {
   "cell_type": "code",
   "execution_count": 7,
   "id": "7bd02515",
   "metadata": {},
   "outputs": [],
   "source": [
    "movies['genres'] = movies['genres'].apply(conv)"
   ]
  },
  {
   "cell_type": "code",
   "execution_count": 8,
   "id": "6d0018fe",
   "metadata": {},
   "outputs": [],
   "source": [
    "movies['keywords'] = movies['keywords'].apply(conv)"
   ]
  },
  {
   "cell_type": "code",
   "execution_count": 9,
   "id": "4d6d4b59",
   "metadata": {},
   "outputs": [],
   "source": [
    "movies['production_companies'] = movies['production_companies'].apply(conv)"
   ]
  },
  {
   "cell_type": "code",
   "execution_count": 10,
   "id": "9936e9c8",
   "metadata": {},
   "outputs": [],
   "source": [
    "def convert(obj):\n",
    "    L=[]\n",
    "    c=0\n",
    "    for i in ast.literal_eval(obj):\n",
    "        if c!=5:\n",
    "            L.append(i['name'])\n",
    "            c+=1\n",
    "        else:\n",
    "            break\n",
    "    return L"
   ]
  },
  {
   "cell_type": "code",
   "execution_count": 11,
   "id": "49155efc",
   "metadata": {},
   "outputs": [],
   "source": [
    "movies['cast'] = movies['cast'].apply(convert)"
   ]
  },
  {
   "cell_type": "code",
   "execution_count": 12,
   "id": "119718c6",
   "metadata": {},
   "outputs": [],
   "source": [
    "movies['producer'] = movies['crew']"
   ]
  },
  {
   "cell_type": "code",
   "execution_count": 13,
   "id": "fe10a8b8",
   "metadata": {},
   "outputs": [],
   "source": [
    "movies.rename(columns = {'crew' : 'director'}, inplace=True)"
   ]
  },
  {
   "cell_type": "code",
   "execution_count": 14,
   "id": "6f1736ad",
   "metadata": {},
   "outputs": [],
   "source": [
    "def dp(obj,job):\n",
    "    L=[]\n",
    "    for i in ast.literal_eval(obj):\n",
    "        if i['job']==job:\n",
    "            L.append(i['name'])\n",
    "            break\n",
    "    return L"
   ]
  },
  {
   "cell_type": "code",
   "execution_count": 15,
   "id": "0351ea7f",
   "metadata": {},
   "outputs": [],
   "source": [
    "movies['director'] = movies['director'].apply(lambda x:dp(x,'Director'))"
   ]
  },
  {
   "cell_type": "code",
   "execution_count": 16,
   "id": "722f5c1e",
   "metadata": {},
   "outputs": [],
   "source": [
    "movies['producer'] = movies['producer'].apply(lambda x:dp(x,'Producer'))"
   ]
  },
  {
   "cell_type": "code",
   "execution_count": 17,
   "id": "5a83b276",
   "metadata": {},
   "outputs": [],
   "source": [
    "movies[\"tag\"] = movies['overview'].apply(lambda x:str(x).split()) + movies['genres'].apply(lambda x:[i.replace(\" \",\"\") for i in x]) + movies['keywords'].apply(lambda x:[i.replace(\" \",\"\") for i in x]) + movies['production_companies'].apply(lambda x:[i.replace(\" \",\"\") for i in x]) + movies['cast'].apply(lambda x:[i.replace(\" \",\"\") for i in x]) + movies['director'].apply(lambda x:[i.replace(\" \",\"\") for i in x]) + movies['producer'].apply(lambda x:[i.replace(\" \",\"\") for i in x])"
   ]
  },
  {
   "cell_type": "code",
   "execution_count": 18,
   "id": "207a3276",
   "metadata": {},
   "outputs": [],
   "source": [
    "from nltk.stem.porter import PorterStemmer\n",
    "ps = PorterStemmer()"
   ]
  },
  {
   "cell_type": "code",
   "execution_count": 19,
   "id": "7aa00b43",
   "metadata": {},
   "outputs": [],
   "source": [
    "movies['tag'] = movies['tag'].apply(lambda x:[ps.stem(i) for i in x])"
   ]
  },
  {
   "cell_type": "code",
   "execution_count": 20,
   "id": "30498c09",
   "metadata": {},
   "outputs": [],
   "source": [
    "movies['tag'] = movies['tag'].apply(lambda x:' '.join(x))"
   ]
  },
  {
   "cell_type": "code",
   "execution_count": 21,
   "id": "f4b230ef",
   "metadata": {
    "scrolled": true
   },
   "outputs": [],
   "source": [
    "movies['genres'] = movies['genres'].apply(lambda x:', '.join(x))"
   ]
  },
  {
   "cell_type": "code",
   "execution_count": 22,
   "id": "0b21a96e",
   "metadata": {},
   "outputs": [],
   "source": [
    "movies['production_companies'] = movies['production_companies'].apply(lambda x:', '.join(x))"
   ]
  },
  {
   "cell_type": "code",
   "execution_count": 23,
   "id": "7c287628",
   "metadata": {},
   "outputs": [],
   "source": [
    "movies['cast'] = movies['cast'].apply(lambda x:', '.join(x))"
   ]
  },
  {
   "cell_type": "code",
   "execution_count": 24,
   "id": "04addcd0",
   "metadata": {},
   "outputs": [],
   "source": [
    "movies['director'] = movies['director'].apply(lambda x:''.join(x))"
   ]
  },
  {
   "cell_type": "code",
   "execution_count": 25,
   "id": "5db24267",
   "metadata": {},
   "outputs": [],
   "source": [
    "movies['producer'] = movies['producer'].apply(lambda x:''.join(x))"
   ]
  },
  {
   "cell_type": "code",
   "execution_count": 26,
   "id": "06965aed",
   "metadata": {},
   "outputs": [],
   "source": [
    "del movies['keywords']"
   ]
  },
  {
   "cell_type": "code",
   "execution_count": 27,
   "id": "5b5b8f60",
   "metadata": {},
   "outputs": [],
   "source": [
    "from sklearn.feature_extraction.text import CountVectorizer\n",
    "cv = CountVectorizer(max_features=2*len(movies), stop_words='english')"
   ]
  },
  {
   "cell_type": "code",
   "execution_count": 28,
   "id": "c00a6310",
   "metadata": {},
   "outputs": [],
   "source": [
    "vec = cv.fit_transform(movies['tag']).toarray()"
   ]
  },
  {
   "cell_type": "code",
   "execution_count": 29,
   "id": "fc49787c",
   "metadata": {},
   "outputs": [],
   "source": [
    "from sklearn.metrics.pairwise import cosine_similarity"
   ]
  },
  {
   "cell_type": "code",
   "execution_count": 30,
   "id": "aab4d983",
   "metadata": {},
   "outputs": [],
   "source": [
    "sim = cosine_similarity(vec)"
   ]
  },
  {
   "cell_type": "code",
   "execution_count": 31,
   "id": "6c74aecb",
   "metadata": {},
   "outputs": [],
   "source": [
    "def recommend(mov,count):\n",
    "    a = 6 + count*5\n",
    "    mov_index = movies[movies['original_title'] == mov].index[0]\n",
    "    mov_list = sorted(list(enumerate(sim[mov_index])),reverse=True,key=lambda x:x[1])[1:a]\n",
    "    \n",
    "    for i in mov_list:\n",
    "        print(movies['original_title'][i[0]])"
   ]
  },
  {
   "cell_type": "code",
   "execution_count": 32,
   "id": "d88a010b",
   "metadata": {
    "scrolled": false
   },
   "outputs": [
    {
     "name": "stdout",
     "output_type": "stream",
     "text": [
      "Superman II\n",
      "Superman IV: The Quest for Peace\n",
      "Superman\n",
      "Superman III\n",
      "Man of Steel\n"
     ]
    }
   ],
   "source": [
    "recommend(\"Superman Returns\",0)"
   ]
  },
  {
   "cell_type": "code",
   "execution_count": 33,
   "id": "0be095a7",
   "metadata": {},
   "outputs": [],
   "source": [
    "pk.dump(movies.to_dict(),open('movies_dictionary.pkl','wb'))"
   ]
  },
  {
   "cell_type": "code",
   "execution_count": 34,
   "id": "dd3b4b16",
   "metadata": {},
   "outputs": [],
   "source": [
    "pk.dump(sim,open('sim.pkl','wb'))"
   ]
  },
  {
   "cell_type": "code",
   "execution_count": 35,
   "id": "0cc8833d",
   "metadata": {
    "scrolled": true
   },
   "outputs": [
    {
     "data": {
      "text/html": [
       "<div>\n",
       "<style scoped>\n",
       "    .dataframe tbody tr th:only-of-type {\n",
       "        vertical-align: middle;\n",
       "    }\n",
       "\n",
       "    .dataframe tbody tr th {\n",
       "        vertical-align: top;\n",
       "    }\n",
       "\n",
       "    .dataframe thead th {\n",
       "        text-align: right;\n",
       "    }\n",
       "</style>\n",
       "<table border=\"1\" class=\"dataframe\">\n",
       "  <thead>\n",
       "    <tr style=\"text-align: right;\">\n",
       "      <th></th>\n",
       "      <th>id</th>\n",
       "      <th>original_title</th>\n",
       "      <th>genres</th>\n",
       "      <th>overview</th>\n",
       "      <th>production_companies</th>\n",
       "      <th>cast</th>\n",
       "      <th>director</th>\n",
       "      <th>release_date</th>\n",
       "      <th>runtime</th>\n",
       "      <th>homepage</th>\n",
       "      <th>producer</th>\n",
       "      <th>tag</th>\n",
       "    </tr>\n",
       "  </thead>\n",
       "  <tbody>\n",
       "    <tr>\n",
       "      <th>0</th>\n",
       "      <td>19995</td>\n",
       "      <td>Avatar</td>\n",
       "      <td>Action, Adventure, Fantasy, Science Fiction</td>\n",
       "      <td>In the 22nd century, a paraplegic Marine is di...</td>\n",
       "      <td>Ingenious Film Partners, Twentieth Century Fox...</td>\n",
       "      <td>Sam Worthington, Zoe Saldana, Sigourney Weaver...</td>\n",
       "      <td>James Cameron</td>\n",
       "      <td>2009-12-10</td>\n",
       "      <td>162.0</td>\n",
       "      <td>http://www.avatarmovie.com/</td>\n",
       "      <td>James Cameron</td>\n",
       "      <td>in the 22nd century, a parapleg marin is dispa...</td>\n",
       "    </tr>\n",
       "    <tr>\n",
       "      <th>1</th>\n",
       "      <td>285</td>\n",
       "      <td>Pirates of the Caribbean: At World's End</td>\n",
       "      <td>Adventure, Fantasy, Action</td>\n",
       "      <td>Captain Barbossa, long believed to be dead, ha...</td>\n",
       "      <td>Walt Disney Pictures, Jerry Bruckheimer Films,...</td>\n",
       "      <td>Johnny Depp, Orlando Bloom, Keira Knightley, S...</td>\n",
       "      <td>Gore Verbinski</td>\n",
       "      <td>2007-05-19</td>\n",
       "      <td>169.0</td>\n",
       "      <td>http://disney.go.com/disneypictures/pirates/</td>\n",
       "      <td>Jerry Bruckheimer</td>\n",
       "      <td>captain barbossa, long believ to be dead, ha c...</td>\n",
       "    </tr>\n",
       "    <tr>\n",
       "      <th>2</th>\n",
       "      <td>206647</td>\n",
       "      <td>Spectre</td>\n",
       "      <td>Action, Adventure, Crime</td>\n",
       "      <td>A cryptic message from Bond’s past sends him o...</td>\n",
       "      <td>Columbia Pictures, Danjaq, B24</td>\n",
       "      <td>Daniel Craig, Christoph Waltz, Léa Seydoux, Ra...</td>\n",
       "      <td>Sam Mendes</td>\n",
       "      <td>2015-10-26</td>\n",
       "      <td>148.0</td>\n",
       "      <td>http://www.sonypictures.com/movies/spectre/</td>\n",
       "      <td>Barbara Broccoli</td>\n",
       "      <td>a cryptic messag from bond’ past send him on a...</td>\n",
       "    </tr>\n",
       "    <tr>\n",
       "      <th>3</th>\n",
       "      <td>49026</td>\n",
       "      <td>The Dark Knight Rises</td>\n",
       "      <td>Action, Crime, Drama, Thriller</td>\n",
       "      <td>Following the death of District Attorney Harve...</td>\n",
       "      <td>Legendary Pictures, Warner Bros., DC Entertain...</td>\n",
       "      <td>Christian Bale, Michael Caine, Gary Oldman, An...</td>\n",
       "      <td>Christopher Nolan</td>\n",
       "      <td>2012-07-16</td>\n",
       "      <td>165.0</td>\n",
       "      <td>http://www.thedarkknightrises.com/</td>\n",
       "      <td>Charles Roven</td>\n",
       "      <td>follow the death of district attorney harvey d...</td>\n",
       "    </tr>\n",
       "    <tr>\n",
       "      <th>4</th>\n",
       "      <td>49529</td>\n",
       "      <td>John Carter</td>\n",
       "      <td>Action, Adventure, Science Fiction</td>\n",
       "      <td>John Carter is a war-weary, former military ca...</td>\n",
       "      <td>Walt Disney Pictures</td>\n",
       "      <td>Taylor Kitsch, Lynn Collins, Samantha Morton, ...</td>\n",
       "      <td>Andrew Stanton</td>\n",
       "      <td>2012-03-07</td>\n",
       "      <td>132.0</td>\n",
       "      <td>http://movies.disney.com/john-carter</td>\n",
       "      <td>Colin Wilson</td>\n",
       "      <td>john carter is a war-weary, former militari ca...</td>\n",
       "    </tr>\n",
       "    <tr>\n",
       "      <th>...</th>\n",
       "      <td>...</td>\n",
       "      <td>...</td>\n",
       "      <td>...</td>\n",
       "      <td>...</td>\n",
       "      <td>...</td>\n",
       "      <td>...</td>\n",
       "      <td>...</td>\n",
       "      <td>...</td>\n",
       "      <td>...</td>\n",
       "      <td>...</td>\n",
       "      <td>...</td>\n",
       "      <td>...</td>\n",
       "    </tr>\n",
       "    <tr>\n",
       "      <th>4798</th>\n",
       "      <td>9367</td>\n",
       "      <td>El Mariachi</td>\n",
       "      <td>Action, Crime, Thriller</td>\n",
       "      <td>El Mariachi just wants to play his guitar and ...</td>\n",
       "      <td>Columbia Pictures</td>\n",
       "      <td>Carlos Gallardo, Jaime de Hoyos, Peter Marquar...</td>\n",
       "      <td>Robert Rodriguez</td>\n",
       "      <td>1992-09-04</td>\n",
       "      <td>81.0</td>\n",
       "      <td>NaN</td>\n",
       "      <td>Robert Rodriguez</td>\n",
       "      <td>el mariachi just want to play hi guitar and ca...</td>\n",
       "    </tr>\n",
       "    <tr>\n",
       "      <th>4799</th>\n",
       "      <td>72766</td>\n",
       "      <td>Newlyweds</td>\n",
       "      <td>Comedy, Romance</td>\n",
       "      <td>A newlywed couple's honeymoon is upended by th...</td>\n",
       "      <td></td>\n",
       "      <td>Edward Burns, Kerry Bishé, Marsha Dietlein, Ca...</td>\n",
       "      <td>Edward Burns</td>\n",
       "      <td>2011-12-26</td>\n",
       "      <td>85.0</td>\n",
       "      <td>NaN</td>\n",
       "      <td>Edward Burns</td>\n",
       "      <td>a newlyw couple' honeymoon is upend by the arr...</td>\n",
       "    </tr>\n",
       "    <tr>\n",
       "      <th>4800</th>\n",
       "      <td>231617</td>\n",
       "      <td>Signed, Sealed, Delivered</td>\n",
       "      <td>Comedy, Drama, Romance, TV Movie</td>\n",
       "      <td>\"Signed, Sealed, Delivered\" introduces a dedic...</td>\n",
       "      <td>Front Street Pictures, Muse Entertainment Ente...</td>\n",
       "      <td>Eric Mabius, Kristin Booth, Crystal Lowe, Geof...</td>\n",
       "      <td>Scott Smith</td>\n",
       "      <td>2013-10-13</td>\n",
       "      <td>120.0</td>\n",
       "      <td>http://www.hallmarkchannel.com/signedsealeddel...</td>\n",
       "      <td>Harvey Kahn</td>\n",
       "      <td>\"signed, sealed, delivered\" introduc a dedic q...</td>\n",
       "    </tr>\n",
       "    <tr>\n",
       "      <th>4801</th>\n",
       "      <td>126186</td>\n",
       "      <td>Shanghai Calling</td>\n",
       "      <td></td>\n",
       "      <td>When ambitious New York attorney Sam is sent t...</td>\n",
       "      <td></td>\n",
       "      <td>Daniel Henney, Eliza Coupe, Bill Paxton, Alan ...</td>\n",
       "      <td>Daniel Hsia</td>\n",
       "      <td>2012-05-03</td>\n",
       "      <td>98.0</td>\n",
       "      <td>http://shanghaicalling.com/</td>\n",
       "      <td></td>\n",
       "      <td>when ambiti new york attorney sam is sent to s...</td>\n",
       "    </tr>\n",
       "    <tr>\n",
       "      <th>4802</th>\n",
       "      <td>25975</td>\n",
       "      <td>My Date with Drew</td>\n",
       "      <td>Documentary</td>\n",
       "      <td>Ever since the second grade when he first saw ...</td>\n",
       "      <td>rusty bear entertainment, lucky crow films</td>\n",
       "      <td>Drew Barrymore, Brian Herzlinger, Corey Feldma...</td>\n",
       "      <td>Brian Herzlinger</td>\n",
       "      <td>2005-08-05</td>\n",
       "      <td>90.0</td>\n",
       "      <td>NaN</td>\n",
       "      <td></td>\n",
       "      <td>ever sinc the second grade when he first saw h...</td>\n",
       "    </tr>\n",
       "  </tbody>\n",
       "</table>\n",
       "<p>4803 rows × 12 columns</p>\n",
       "</div>"
      ],
      "text/plain": [
       "          id                            original_title  \\\n",
       "0      19995                                    Avatar   \n",
       "1        285  Pirates of the Caribbean: At World's End   \n",
       "2     206647                                   Spectre   \n",
       "3      49026                     The Dark Knight Rises   \n",
       "4      49529                               John Carter   \n",
       "...      ...                                       ...   \n",
       "4798    9367                               El Mariachi   \n",
       "4799   72766                                 Newlyweds   \n",
       "4800  231617                 Signed, Sealed, Delivered   \n",
       "4801  126186                          Shanghai Calling   \n",
       "4802   25975                         My Date with Drew   \n",
       "\n",
       "                                           genres  \\\n",
       "0     Action, Adventure, Fantasy, Science Fiction   \n",
       "1                      Adventure, Fantasy, Action   \n",
       "2                        Action, Adventure, Crime   \n",
       "3                  Action, Crime, Drama, Thriller   \n",
       "4              Action, Adventure, Science Fiction   \n",
       "...                                           ...   \n",
       "4798                      Action, Crime, Thriller   \n",
       "4799                              Comedy, Romance   \n",
       "4800             Comedy, Drama, Romance, TV Movie   \n",
       "4801                                                \n",
       "4802                                  Documentary   \n",
       "\n",
       "                                               overview  \\\n",
       "0     In the 22nd century, a paraplegic Marine is di...   \n",
       "1     Captain Barbossa, long believed to be dead, ha...   \n",
       "2     A cryptic message from Bond’s past sends him o...   \n",
       "3     Following the death of District Attorney Harve...   \n",
       "4     John Carter is a war-weary, former military ca...   \n",
       "...                                                 ...   \n",
       "4798  El Mariachi just wants to play his guitar and ...   \n",
       "4799  A newlywed couple's honeymoon is upended by th...   \n",
       "4800  \"Signed, Sealed, Delivered\" introduces a dedic...   \n",
       "4801  When ambitious New York attorney Sam is sent t...   \n",
       "4802  Ever since the second grade when he first saw ...   \n",
       "\n",
       "                                   production_companies  \\\n",
       "0     Ingenious Film Partners, Twentieth Century Fox...   \n",
       "1     Walt Disney Pictures, Jerry Bruckheimer Films,...   \n",
       "2                        Columbia Pictures, Danjaq, B24   \n",
       "3     Legendary Pictures, Warner Bros., DC Entertain...   \n",
       "4                                  Walt Disney Pictures   \n",
       "...                                                 ...   \n",
       "4798                                  Columbia Pictures   \n",
       "4799                                                      \n",
       "4800  Front Street Pictures, Muse Entertainment Ente...   \n",
       "4801                                                      \n",
       "4802         rusty bear entertainment, lucky crow films   \n",
       "\n",
       "                                                   cast           director  \\\n",
       "0     Sam Worthington, Zoe Saldana, Sigourney Weaver...      James Cameron   \n",
       "1     Johnny Depp, Orlando Bloom, Keira Knightley, S...     Gore Verbinski   \n",
       "2     Daniel Craig, Christoph Waltz, Léa Seydoux, Ra...         Sam Mendes   \n",
       "3     Christian Bale, Michael Caine, Gary Oldman, An...  Christopher Nolan   \n",
       "4     Taylor Kitsch, Lynn Collins, Samantha Morton, ...     Andrew Stanton   \n",
       "...                                                 ...                ...   \n",
       "4798  Carlos Gallardo, Jaime de Hoyos, Peter Marquar...   Robert Rodriguez   \n",
       "4799  Edward Burns, Kerry Bishé, Marsha Dietlein, Ca...       Edward Burns   \n",
       "4800  Eric Mabius, Kristin Booth, Crystal Lowe, Geof...        Scott Smith   \n",
       "4801  Daniel Henney, Eliza Coupe, Bill Paxton, Alan ...        Daniel Hsia   \n",
       "4802  Drew Barrymore, Brian Herzlinger, Corey Feldma...   Brian Herzlinger   \n",
       "\n",
       "     release_date  runtime                                           homepage  \\\n",
       "0      2009-12-10    162.0                        http://www.avatarmovie.com/   \n",
       "1      2007-05-19    169.0       http://disney.go.com/disneypictures/pirates/   \n",
       "2      2015-10-26    148.0        http://www.sonypictures.com/movies/spectre/   \n",
       "3      2012-07-16    165.0                 http://www.thedarkknightrises.com/   \n",
       "4      2012-03-07    132.0               http://movies.disney.com/john-carter   \n",
       "...           ...      ...                                                ...   \n",
       "4798   1992-09-04     81.0                                                NaN   \n",
       "4799   2011-12-26     85.0                                                NaN   \n",
       "4800   2013-10-13    120.0  http://www.hallmarkchannel.com/signedsealeddel...   \n",
       "4801   2012-05-03     98.0                        http://shanghaicalling.com/   \n",
       "4802   2005-08-05     90.0                                                NaN   \n",
       "\n",
       "               producer                                                tag  \n",
       "0         James Cameron  in the 22nd century, a parapleg marin is dispa...  \n",
       "1     Jerry Bruckheimer  captain barbossa, long believ to be dead, ha c...  \n",
       "2      Barbara Broccoli  a cryptic messag from bond’ past send him on a...  \n",
       "3         Charles Roven  follow the death of district attorney harvey d...  \n",
       "4          Colin Wilson  john carter is a war-weary, former militari ca...  \n",
       "...                 ...                                                ...  \n",
       "4798   Robert Rodriguez  el mariachi just want to play hi guitar and ca...  \n",
       "4799       Edward Burns  a newlyw couple' honeymoon is upend by the arr...  \n",
       "4800        Harvey Kahn  \"signed, sealed, delivered\" introduc a dedic q...  \n",
       "4801                     when ambiti new york attorney sam is sent to s...  \n",
       "4802                     ever sinc the second grade when he first saw h...  \n",
       "\n",
       "[4803 rows x 12 columns]"
      ]
     },
     "execution_count": 35,
     "metadata": {},
     "output_type": "execute_result"
    }
   ],
   "source": [
    "movies"
   ]
  }
 ],
 "metadata": {
  "kernelspec": {
   "display_name": "Python 3 (ipykernel)",
   "language": "python",
   "name": "python3"
  },
  "language_info": {
   "codemirror_mode": {
    "name": "ipython",
    "version": 3
   },
   "file_extension": ".py",
   "mimetype": "text/x-python",
   "name": "python",
   "nbconvert_exporter": "python",
   "pygments_lexer": "ipython3",
   "version": "3.9.12"
  }
 },
 "nbformat": 4,
 "nbformat_minor": 5
}
