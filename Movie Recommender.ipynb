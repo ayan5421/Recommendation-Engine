{
 "cells": [
  {
   "cell_type": "code",
   "execution_count": 1,
   "id": "633506f5",
   "metadata": {},
   "outputs": [],
   "source": [
    "import  numpy as np\n",
    "import pandas as pd\n",
    "import ast\n",
    "import nltk\n",
    "import pickle as pk"
   ]
  },
  {
   "cell_type": "code",
   "execution_count": 2,
   "id": "55901800",
   "metadata": {},
   "outputs": [],
   "source": [
    "movies = pd.read_csv('tmdb_5000_movies.csv')\n",
    "credits = pd.read_csv('tmdb_5000_credits.csv')"
   ]
  },
  {
   "cell_type": "code",
   "execution_count": 3,
   "id": "3f77796f",
   "metadata": {},
   "outputs": [],
   "source": [
    "credits.rename(columns = {'movie_id' : 'id'}, inplace=True)"
   ]
  },
  {
   "cell_type": "code",
   "execution_count": 4,
   "id": "1f76337b",
   "metadata": {
    "scrolled": true
   },
   "outputs": [],
   "source": [
    "movies = movies.merge(credits, on='id')"
   ]
  },
  {
   "cell_type": "code",
   "execution_count": 5,
   "id": "3217113b",
   "metadata": {
    "scrolled": true
   },
   "outputs": [],
   "source": [
    "movies = movies[['id','original_title','genres','keywords','overview','production_companies','cast','crew','release_date','runtime','homepage']]"
   ]
  },
  {
   "cell_type": "code",
   "execution_count": 6,
   "id": "24a4a215",
   "metadata": {},
   "outputs": [],
   "source": [
    "def conv(obj):\n",
    "    L=[]\n",
    "    for i in ast.literal_eval(obj):\n",
    "        L.append(i['name'])\n",
    "    return L"
   ]
  },
  {
   "cell_type": "code",
   "execution_count": 7,
   "id": "7bd02515",
   "metadata": {},
   "outputs": [],
   "source": [
    "movies['genres'] = movies['genres'].apply(conv)"
   ]
  },
  {
   "cell_type": "code",
   "execution_count": 8,
   "id": "6d0018fe",
   "metadata": {},
   "outputs": [],
   "source": [
    "movies['keywords'] = movies['keywords'].apply(conv)"
   ]
  },
  {
   "cell_type": "code",
   "execution_count": 9,
   "id": "4d6d4b59",
   "metadata": {},
   "outputs": [],
   "source": [
    "movies['production_companies'] = movies['production_companies'].apply(conv)"
   ]
  },
  {
   "cell_type": "code",
   "execution_count": 10,
   "id": "9936e9c8",
   "metadata": {},
   "outputs": [],
   "source": [
    "def convert(obj):\n",
    "    L=[]\n",
    "    c=0\n",
    "    for i in ast.literal_eval(obj):\n",
    "        if c!=5:\n",
    "            L.append(i['name'])\n",
    "            c+=1\n",
    "        else:\n",
    "            break\n",
    "    return L"
   ]
  },
  {
   "cell_type": "code",
   "execution_count": 11,
   "id": "49155efc",
   "metadata": {},
   "outputs": [],
   "source": [
    "movies['cast'] = movies['cast'].apply(convert)"
   ]
  },
  {
   "cell_type": "code",
   "execution_count": 12,
   "id": "7f929160",
   "metadata": {},
   "outputs": [],
   "source": [
    "movies['producer'] = movies['crew']"
   ]
  },
  {
   "cell_type": "code",
   "execution_count": 13,
   "id": "4f8522d4",
   "metadata": {},
   "outputs": [],
   "source": [
    "movies.rename(columns = {'crew' : 'director'}, inplace=True)"
   ]
  },
  {
   "cell_type": "code",
   "execution_count": 14,
   "id": "6f1736ad",
   "metadata": {},
   "outputs": [],
   "source": [
    "def dp(obj,job):\n",
    "    L=[]\n",
    "    for i in ast.literal_eval(obj):\n",
    "        if i['job']==job:\n",
    "            L.append(i['name'])\n",
    "            break\n",
    "    return L"
   ]
  },
  {
   "cell_type": "code",
   "execution_count": 15,
   "id": "0351ea7f",
   "metadata": {},
   "outputs": [],
   "source": [
    "movies['director'] = movies['director'].apply(lambda x:dp(x,'Director'))"
   ]
  },
  {
   "cell_type": "code",
   "execution_count": 16,
   "id": "9a81df88",
   "metadata": {},
   "outputs": [],
   "source": [
    "movies['producer'] = movies['producer'].apply(lambda x:dp(x,'Producer'))"
   ]
  },
  {
   "cell_type": "code",
   "execution_count": 17,
   "id": "5a83b276",
   "metadata": {},
   "outputs": [],
   "source": [
    "movies[\"tag\"] = movies['overview'].apply(lambda x:str(x).split()) + movies['genres'].apply(lambda x:[i.replace(\" \",\"\") for i in x]) + movies['keywords'].apply(lambda x:[i.replace(\" \",\"\") for i in x]) + movies['production_companies'].apply(lambda x:[i.replace(\" \",\"\") for i in x]) + movies['cast'].apply(lambda x:[i.replace(\" \",\"\") for i in x]) + movies['director'].apply(lambda x:[i.replace(\" \",\"\") for i in x]) + movies['producer'].apply(lambda x:[i.replace(\" \",\"\") for i in x])"
   ]
  },
  {
   "cell_type": "code",
   "execution_count": 18,
   "id": "207a3276",
   "metadata": {},
   "outputs": [],
   "source": [
    "from nltk.stem.porter import PorterStemmer\n",
    "ps = PorterStemmer()"
   ]
  },
  {
   "cell_type": "code",
   "execution_count": 19,
   "id": "7aa00b43",
   "metadata": {},
   "outputs": [],
   "source": [
    "movies['tag'] = movies['tag'].apply(lambda x:[ps.stem(i) for i in x])"
   ]
  },
  {
   "cell_type": "code",
   "execution_count": 21,
   "id": "30498c09",
   "metadata": {},
   "outputs": [],
   "source": [
    "movies['tag'] = movies['tag'].apply(lambda x:' '.join(x))"
   ]
  },
  {
   "cell_type": "code",
   "execution_count": 22,
   "id": "5b5b8f60",
   "metadata": {},
   "outputs": [],
   "source": [
    "from sklearn.feature_extraction.text import CountVectorizer\n",
    "cv = CountVectorizer(max_features=2*len(movies), stop_words='english')"
   ]
  },
  {
   "cell_type": "code",
   "execution_count": 25,
   "id": "c00a6310",
   "metadata": {},
   "outputs": [],
   "source": [
    "vec = cv.fit_transform(movies['tag']).toarray()"
   ]
  },
  {
   "cell_type": "code",
   "execution_count": 26,
   "id": "fc49787c",
   "metadata": {},
   "outputs": [],
   "source": [
    "from sklearn.metrics.pairwise import cosine_similarity"
   ]
  },
  {
   "cell_type": "code",
   "execution_count": 27,
   "id": "aab4d983",
   "metadata": {},
   "outputs": [],
   "source": [
    "sim = cosine_similarity(vec)"
   ]
  },
  {
   "cell_type": "code",
   "execution_count": 28,
   "id": "6c74aecb",
   "metadata": {},
   "outputs": [],
   "source": [
    "def recommend(mov,count):\n",
    "    a = 6 + count*5\n",
    "    mov_index = movies[movies['original_title'] == mov].index[0]\n",
    "    mov_list = sorted(list(enumerate(sim[mov_index])),reverse=True,key=lambda x:x[1])[1:a]\n",
    "    \n",
    "    for i in mov_list:\n",
    "        print(movies['original_title'][i[0]])"
   ]
  },
  {
   "cell_type": "code",
   "execution_count": 40,
   "id": "d88a010b",
   "metadata": {},
   "outputs": [
    {
     "name": "stdout",
     "output_type": "stream",
     "text": [
      "Batman & Robin\n",
      "Batman Returns\n",
      "Batman Begins\n",
      "The R.M.\n",
      "Batman Forever\n"
     ]
    }
   ],
   "source": [
    "recommend(\"Batman\",0)"
   ]
  },
  {
   "cell_type": "code",
   "execution_count": null,
   "id": "16291724",
   "metadata": {},
   "outputs": [],
   "source": [
    "pk.dump()"
   ]
  }
 ],
 "metadata": {
  "kernelspec": {
   "display_name": "Python 3 (ipykernel)",
   "language": "python",
   "name": "python3"
  },
  "language_info": {
   "codemirror_mode": {
    "name": "ipython",
    "version": 3
   },
   "file_extension": ".py",
   "mimetype": "text/x-python",
   "name": "python",
   "nbconvert_exporter": "python",
   "pygments_lexer": "ipython3",
   "version": "3.9.12"
  }
 },
 "nbformat": 4,
 "nbformat_minor": 5
}
